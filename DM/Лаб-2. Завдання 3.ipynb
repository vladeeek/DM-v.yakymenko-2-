{
 "cells": [
  {
   "cell_type": "markdown",
   "metadata": {},
   "source": [
    "#  Лабораторна робота №2\n",
    "### практичне завдання 3 \n",
    "***"
   ]
  },
  {
   "cell_type": "markdown",
   "metadata": {},
   "source": [
    "### Функції: простір імен (namespace) та область видимости (scope)\n",
    "\n",
    "__Функція__ - це блок програмного коду, який виконує деяку ізольовану задачу і може викликатись з іншого місця програми.\n",
    "\n",
    "[Докладніше про функції](https://pythonworld.ru/tipy-dannyx-v-python/vse-o-funkciyax-i-ix-argumentax.html)\n",
    "\n",
    "_Функція_ характерізується наступними _властивостями_ :\n",
    "\n",
    "- __ім'я__ - символічне посилання по якому функція викликається\n",
    "- __аргументи__(параметри) - список об'єктів, які передаються в функцію ззовні\n",
    "- __значення, що повертаються__ - об'єкти, які повертає функція перед тим, як завершити свою роботу "
   ]
  },
  {
   "cell_type": "code",
   "execution_count": null,
   "metadata": {},
   "outputs": [],
   "source": [
    "def some_func(arg1, arg2):\n",
    "    ''' Це якась функція'''\n",
    "    a = arg1 * 2\n",
    "    return a    "
   ]
  },
  {
   "cell_type": "code",
   "execution_count": null,
   "metadata": {},
   "outputs": [],
   "source": [
    "type(some_func), id(some_func)"
   ]
  },
  {
   "cell_type": "code",
   "execution_count": null,
   "metadata": {},
   "outputs": [],
   "source": [
    "print(dir(some_func))"
   ]
  },
  {
   "cell_type": "code",
   "execution_count": null,
   "metadata": {
    "scrolled": true
   },
   "outputs": [],
   "source": [
    "some_func.__doc__, some_func.__name__, some_func.__code__, some_func.__module__"
   ]
  },
  {
   "cell_type": "code",
   "execution_count": null,
   "metadata": {},
   "outputs": [],
   "source": [
    "print(some_func.__globals__[\"_ih\"][1])"
   ]
  },
  {
   "cell_type": "markdown",
   "metadata": {},
   "source": [
    "___ім'я функції___ - будь-яке припустиме ім'я python-змінної\n",
    "\n",
    "___аргументи функції___ - будь-які об'єкти _python_ (можуть бути відсутні)\n",
    "\n",
    "Два типи аргументів:\n",
    "1. __Позиціоновані__ ```def f (arg1, \"John\", 123): ```\n",
    "2. __Іменовані__ ``` def f (name = \"John\", par = 123): ```\n",
    "\n",
    "__Правило:__ спочатку записуються позиціоновані аргументи, потім іменовані\n",
    "\n",
    "__Значення що повертається__ - будь який припустимий об'єкт чи перелік об'єктів який йде після ```return```, або нічого \n",
    "\n",
    "##### return завжди завершує виконання функції\n",
    "\n",
    "#### функція - це БЛОЧНА структура\n"
   ]
  },
  {
   "cell_type": "code",
   "execution_count": null,
   "metadata": {},
   "outputs": [],
   "source": [
    "def f (a, n = 1):\n",
    "    c = \"ccc\"\n",
    "    print(n, a, c)\n",
    "    return "
   ]
  },
  {
   "cell_type": "markdown",
   "metadata": {},
   "source": [
    "#### Простір імен - це словник (dict), який вміщує посилання на об'єкти, що знаходяться всередині блоку\n",
    "\n",
    "__Типи__ namespace:\n",
    "\n",
    "1. Вбудований (Builtins) - створюється при запуску Python\n",
    "2. Глобальний (Global) - створюється при запуску програмного модуля\n",
    "3. Локальний (Local) - створюється для кожного блока програми (def, for, with, ...)\n",
    "4. Огорожений (Enclosed) - створюється коли є вкдаденість блоків\n",
    "\n"
   ]
  },
  {
   "cell_type": "code",
   "execution_count": null,
   "metadata": {},
   "outputs": [],
   "source": [
    "# Вбудований namespace\n",
    "print(dir(__builtins__))"
   ]
  },
  {
   "cell_type": "code",
   "execution_count": null,
   "metadata": {
    "scrolled": true
   },
   "outputs": [],
   "source": [
    "# Глобальний namespace\n",
    "print(dir())"
   ]
  },
  {
   "cell_type": "code",
   "execution_count": null,
   "metadata": {},
   "outputs": [],
   "source": [
    "def f (a, n = 1):\n",
    "    c = \"ccc\"\n",
    "    print(n, a, c)\n",
    "    # Локальний namespace\n",
    "    print(dir())"
   ]
  },
  {
   "cell_type": "code",
   "execution_count": null,
   "metadata": {},
   "outputs": [],
   "source": [
    "f(123)"
   ]
  },
  {
   "cell_type": "code",
   "execution_count": null,
   "metadata": {},
   "outputs": [],
   "source": [
    "# Глобальний об'єкт\n",
    "x = [111, 222]\n",
    "\n",
    "def f (a, b = 1):\n",
    "    c = \"ccc\"\n",
    "    \n",
    "    # вкладений блок\n",
    "    def g ():\n",
    "        d = 999\n",
    "        # x = 0\n",
    "        print(\"Функція g:\")\n",
    "        print('\\t',a, b, c, d, x)\n",
    "        print('\\t', dir(),'\\n')\n",
    "    \n",
    "    g()\n",
    "    # x = -999\n",
    "    print(\"Функція f:\")\n",
    "    print(a, b, c, x)\n",
    "    print(dir())\n"
   ]
  },
  {
   "cell_type": "code",
   "execution_count": null,
   "metadata": {},
   "outputs": [],
   "source": [
    "f(123)"
   ]
  },
  {
   "cell_type": "markdown",
   "metadata": {},
   "source": [
    "#### Область видимості (scope)  - це блок коду де об'єкт є доступним\n",
    "\n",
    "__Scope__ діє __тільки__ для функцій, моодулів та класів"
   ]
  },
  {
   "cell_type": "code",
   "execution_count": null,
   "metadata": {},
   "outputs": [],
   "source": [
    "x = 10\n",
    "for _ in [1, 2, 3]:\n",
    "    x += 1\n",
    "\n",
    "print(x)"
   ]
  },
  {
   "cell_type": "markdown",
   "metadata": {},
   "source": [
    "### Модулі та пакети"
   ]
  },
  {
   "cell_type": "markdown",
   "metadata": {},
   "source": [
    "__Модуль__ - це програмний код, який містить функції об'єднані для вирішення якоїсь задачі\n",
    "\n",
    "__Пакет__ - це сукупність модулів, що знаходяться в одній директорії в якій додатково розміщується файл с назвою __init.py__\n",
    "\n",
    "[Докладніше про модулі і пакети](https://devpractice.ru/python-lesson-13-modules-and-packages/)\n",
    "\n",
    "В [Стандартній бібліотеці Python](https://docs.python.org/3/library/) наведено перелік модулів, які доступні по замовченню\n",
    "\n",
    "Інші модулі треба завантажувати та інсталювати з офіційного репозиторію python-модулів [PyPi](https://pypi.org). Завантаження виконується за допомогою пакетного менеджера [pip](https://pythonworld.ru/osnovy/pip.html)"
   ]
  },
  {
   "cell_type": "code",
   "execution_count": null,
   "metadata": {},
   "outputs": [],
   "source": [
    "# підключення модулів до програмного коду\n",
    "import math"
   ]
  },
  {
   "cell_type": "code",
   "execution_count": null,
   "metadata": {},
   "outputs": [],
   "source": [
    "math.__doc__"
   ]
  },
  {
   "cell_type": "code",
   "execution_count": null,
   "metadata": {},
   "outputs": [],
   "source": [
    "print(dir(math))"
   ]
  },
  {
   "cell_type": "code",
   "execution_count": null,
   "metadata": {},
   "outputs": [],
   "source": [
    "# підключення окремої функції з модуля\n",
    "from math import log2 \n",
    "log2(111)"
   ]
  }
 ],
 "metadata": {
  "kernelspec": {
   "display_name": "Python 3",
   "language": "python",
   "name": "python3"
  },
  "language_info": {
   "codemirror_mode": {
    "name": "ipython",
    "version": 3
   },
   "file_extension": ".py",
   "mimetype": "text/x-python",
   "name": "python",
   "nbconvert_exporter": "python",
   "pygments_lexer": "ipython3",
   "version": "3.7.4"
  }
 },
 "nbformat": 4,
 "nbformat_minor": 2
}
