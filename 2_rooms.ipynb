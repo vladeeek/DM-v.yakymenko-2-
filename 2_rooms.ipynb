{
 "cells": [
  {
   "cell_type": "markdown",
   "metadata": {},
   "source": [
    "## ЕЛЕМЕНТИ DATA CLEANING "
   ]
  },
  {
   "cell_type": "markdown",
   "metadata": {},
   "source": [
    "### ВАРІАНТ № 2\n",
    "### Загальні положення"
   ]
  },
  {
   "cell_type": "markdown",
   "metadata": {},
   "source": [
    "__Мета__: \n",
    "- Опанувати деякі методи завантаження, видобутоку та очищення первинних даних\n",
    "- Застосувати на практиці набуті знання та навички програмування на Python, а саме:\n",
    "    - читання і запис даних у файли;\n",
    "    - організація циклічної оброобки даних (for .. in ..)\n",
    "    - реалізація умовної обробки (if .. elif .. else)\n",
    "    - використання методів і функцій стандартної бібліотеки Python\n",
    "\n",
    "__Вхідні дані__ : файл __aprts_data_raw.csv__, якій отримано з ресурсу _https://flatfy.lun.ua/продажа-квартир-киев_ шляхом його парсингу.\n",
    "\n",
    "Файл має наступну структуру:\n",
    "\n",
    "|    | Назва поля      | Очікуваний формат поля   |\n",
    "| -- | :-----------     | :-------------------------|\n",
    "|  1 | Ціна квартири (\\$ або грн)    | дробове                  |\n",
    "|  2 | Кількість кімнат | ціле\n",
    "|  3 | Ціна за м² (\\$ або грн)     | дробове\n",
    "|  4 | Поверх та всього поверхів | ціле\n",
    "| 5  | рік побудови   | ціле\n",
    "| 6  | тип будинку    | текст\n",
    "| 7  | Площа (загальна/житлова/кухні)| дробове\n",
    "| 8  | вулиця         | текст\n",
    "| 9  | номер дому     | текст\n",
    "\n",
    "__Особливі умови__: в первиних даних деякі показники можуть бути відстутні (не распарсені) - тоді вони позначаються `*** not found`"
   ]
  },
  {
   "cell_type": "markdown",
   "metadata": {},
   "source": [
    "### Теоретична частина та приклади"
   ]
  },
  {
   "cell_type": "markdown",
   "metadata": {},
   "source": [
    "Вхідний файл треба зчитувати і обробляти __порядково__ -  це гарна практика роботи з великими об\\`ємами даних.\n",
    "\n",
    "Дані, що зчитуються з файлів порядково представляються у текстовому (__str__) форматі, тому доцільно використовувати [функції обробки строкових даних](https://pythonworld.ru/tipy-dannyx-v-python/stroki-funkcii-i-metody-strok.html) python:"
   ]
  },
  {
   "cell_type": "code",
   "execution_count": null,
   "metadata": {
    "code_folding": []
   },
   "outputs": [],
   "source": [
    "# split() - дозволяє розділити текстову строку на окремі поля і помістити їх в список\n",
    "\n",
    "stroka = \"Вася Пупкін - студент 5 курсу ФІТ\"\n",
    "print(\"Розподільник: ` `\")\n",
    "print (stroka)\n",
    "list_from_stroka = stroka.split()\n",
    "print(list_from_stroka, end='\\n\\n')\n",
    "\n",
    "# якщо в якості аргумента split вказати розподільник, \n",
    "# то він буде використаний при побудові списка\n",
    "list_from_stroka = stroka.split('-')\n",
    "print(\"Розподільник: `-`\")\n",
    "print (stroka)\n",
    "print(list_from_stroka)"
   ]
  },
  {
   "cell_type": "markdown",
   "metadata": {},
   "source": [
    "__Примітка:__ файли в csv-форматі мають в якості розподільника, як правило, символ `,`"
   ]
  },
  {
   "cell_type": "code",
   "execution_count": null,
   "metadata": {
    "code_folding": [],
    "run_control": {
     "marked": false
    }
   },
   "outputs": [],
   "source": [
    "# за допомогою метода strip() є можливість \"обрізати\" зліва та справа пробіли \n",
    "# (якщо параметер не вказано), або символи, які вказані в якостиі параметрів:\n",
    "\n",
    "stroka = \"     Вася Пупкін - студент 5 курсу ФІТ   \"\n",
    "striped_stroka = stroka.strip()\n",
    "print(stroka)\n",
    "print(striped_stroka)\n",
    "print(striped_stroka.strip('ФІТ'))\n"
   ]
  },
  {
   "cell_type": "markdown",
   "metadata": {},
   "source": [
    "__Конвертування строкових даних__ у чисельні здійснюється за допомогою функцій [int](https://pythoner.name/int-function) або [float](https://www.programiz.com/python-programming/methods/built-in/float), але треба мати на увазі що ці функціі викинуть виключення, якщо буде спроба конвертувати не число. Тому перед виконанням конвертування доцільно перевіряти, чи буде воно успішнім. Для цього можна викорастати функцію [isnumeric](https://pythonz.net/references/named/str.isnumeric/)."
   ]
  },
  {
   "cell_type": "code",
   "execution_count": null,
   "metadata": {
    "code_folding": [],
    "run_control": {
     "marked": false
    }
   },
   "outputs": [],
   "source": [
    "# \n",
    "number_str = '123.3'\n",
    "print(type(number_str))\n",
    "number_float = float(number_str)\n",
    "print(type(number_float), end='\\n\\n')\n",
    "\n",
    "# але\n",
    "maybe_number_str = '123.З' # після крапки не число!\n",
    "print(type(number_str))\n",
    "# number_float = float(maybe_number_str) # ValueError: could not convert string to float: '123.З'\n",
    "\n",
    "# треба\n",
    "if maybe_number_str.isnumeric():\n",
    "    #  True\n",
    "    number_float = float(maybe_number_str)\n",
    "else:\n",
    "    # False\n",
    "    # код який обробляє цю ситуацію\n",
    "    ..."
   ]
  },
  {
   "cell_type": "markdown",
   "metadata": {},
   "source": [
    "### Приклад розбору рядків, та вилучення показчиків "
   ]
  },
  {
   "cell_type": "code",
   "execution_count": null,
   "metadata": {
    "run_control": {
     "marked": false
    }
   },
   "outputs": [],
   "source": [
    "# Припустимо, що ми маємо файл, вміст якого відображається на список:\n",
    "file_content = [\n",
    "    'Вася Пупкін ,  5 курс, ФІТ',\n",
    "    'Петя Сидоров, 1 курс, ФТМ',\n",
    "    ' Вова   Хлопов , 3 курс, ФІТ'\n",
    "]\n",
    "_ = [print(x) for x in file_content]"
   ]
  },
  {
   "cell_type": "code",
   "execution_count": null,
   "metadata": {},
   "outputs": [],
   "source": [
    "# треба створити новий список, який буде містити окремо ім'я та прізвище\n",
    "\n",
    "# зарезервуєм пустий контейнер\n",
    "name_and_surname = []\n",
    "\n",
    "for line in file_content:\n",
    "    list_from_line = line.split(',')\n",
    "    name, surname = list_from_line[0].split()\n",
    "    name_and_surname += [[name.strip(), surname.strip()]]\n",
    "\n",
    "_ = [print(x) for x in name_and_surname]"
   ]
  },
  {
   "cell_type": "code",
   "execution_count": null,
   "metadata": {},
   "outputs": [],
   "source": [
    "# теж саме в функціональному стилі \n",
    "from functools import reduce\n",
    "reduce(lambda acc, line: acc + [line.split(',')[0].split()], file_content, [])"
   ]
  },
  {
   "cell_type": "markdown",
   "metadata": {},
   "source": [
    "### ЗАВДАННЯ\n",
    "\n",
    "<p style=\"background-color: lightblue; padding:10px\">На основі вхідного файлу <b>aprts_data_raw.csv</b> побудувати вихідний файл <b>aprt_rooms.txt</b> кожний рядок якого є вилучене з 2 показника та приведене до очікуваного формату  значення кількісті кімнат в квартирі.<br><br><i>При неможливості приведення показчика його треба замінити на NaN</i></p>"
   ]
  },
  {
   "cell_type": "markdown",
   "metadata": {},
   "source": [
    "_Фрагмент_ результатного файлу:\n",
    "\n",
    "`\n",
    "2\n",
    "2\n",
    "3\n",
    "5\n",
    "...\n",
    "`"
   ]
  },
  {
   "cell_type": "code",
   "execution_count": null,
   "metadata": {},
   "outputs": [],
   "source": [
    "# Ваш код повинен починатися тут\n",
    "import csv\n",
    "with open(\"aprts_data_raw.csv\", \"r\", encoding='utf8',newline=\"\") as csvfile:\n",
    "    reader = csv.reader(csvfile, delimiter=\",\")\n",
    "    my_file = open(\"aprt_rooms.txt\", \"w+\")\n",
    "    for line in reader:\n",
    "        rooms = line[1].split(' ')[0]\n",
    "        if rooms.isnumeric():\n",
    "            my_file.write(rooms + '\\n')\n",
    "        else:\n",
    "            my_file.write('NaN' + '\\n')"
   ]
  },
  {
   "cell_type": "code",
   "execution_count": null,
   "metadata": {},
   "outputs": [],
   "source": []
  }
 ],
 "metadata": {
  "kernelspec": {
   "display_name": "Python 3.10.4 64-bit",
   "language": "python",
   "name": "python3"
  },
  "language_info": {
   "codemirror_mode": {
    "name": "ipython",
    "version": 3
   },
   "file_extension": ".py",
   "mimetype": "text/x-python",
   "name": "python",
   "nbconvert_exporter": "python",
   "pygments_lexer": "ipython3",
   "version": "3.10.4"
  },
  "vscode": {
   "interpreter": {
    "hash": "62c5f2da052f0a74e687aafb2d2e1b0a27f55f976adfec071908aa5ed3dda4f5"
   }
  }
 },
 "nbformat": 4,
 "nbformat_minor": 4
}
